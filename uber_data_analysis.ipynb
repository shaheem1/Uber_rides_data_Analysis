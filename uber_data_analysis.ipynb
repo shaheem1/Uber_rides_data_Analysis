{
 "cells": [
  {
   "cell_type": "code",
   "execution_count": 1,
   "id": "72037257",
   "metadata": {},
   "outputs": [
    {
     "name": "stderr",
     "output_type": "stream",
     "text": [
      "Matplotlib is building the font cache; this may take a moment.\n"
     ]
    }
   ],
   "source": [
    "#importing required libraries\n",
    "import numpy as np\n",
    "import pandas as pd\n",
    "import matplotlib.pyplot as plt\n"
   ]
  },
  {
   "cell_type": "code",
   "execution_count": 3,
   "id": "c534b248",
   "metadata": {},
   "outputs": [],
   "source": [
    "%matplotlib inline"
   ]
  },
  {
   "cell_type": "code",
   "execution_count": 11,
   "id": "583cb8dd",
   "metadata": {},
   "outputs": [],
   "source": [
    "# load data from excel file\n",
    "file_path='uber_rides_data.csv'"
   ]
  },
  {
   "cell_type": "code",
   "execution_count": 12,
   "id": "3558e9e4",
   "metadata": {},
   "outputs": [],
   "source": [
    "#loading data into a pandas dataframe\n",
    "df = pd.read_csv(file_path)"
   ]
  },
  {
   "cell_type": "code",
   "execution_count": 13,
   "id": "4f57f2ac",
   "metadata": {},
   "outputs": [
    {
     "data": {
      "text/html": [
       "<div>\n",
       "<style scoped>\n",
       "    .dataframe tbody tr th:only-of-type {\n",
       "        vertical-align: middle;\n",
       "    }\n",
       "\n",
       "    .dataframe tbody tr th {\n",
       "        vertical-align: top;\n",
       "    }\n",
       "\n",
       "    .dataframe thead th {\n",
       "        text-align: right;\n",
       "    }\n",
       "</style>\n",
       "<table border=\"1\" class=\"dataframe\">\n",
       "  <thead>\n",
       "    <tr style=\"text-align: right;\">\n",
       "      <th></th>\n",
       "      <th>ride_id</th>\n",
       "      <th>fare_amount</th>\n",
       "      <th>pickup_datetime</th>\n",
       "      <th>pickup_longitude</th>\n",
       "      <th>pickup_latitude</th>\n",
       "      <th>dropoff_longitude</th>\n",
       "      <th>dropoff_latitude</th>\n",
       "      <th>passenger_count</th>\n",
       "    </tr>\n",
       "  </thead>\n",
       "  <tbody>\n",
       "    <tr>\n",
       "      <th>0</th>\n",
       "      <td>24238194</td>\n",
       "      <td>7.5</td>\n",
       "      <td>2015-05-07 19:52:06 UTC</td>\n",
       "      <td>-73.999817</td>\n",
       "      <td>40.738354</td>\n",
       "      <td>-73.999512</td>\n",
       "      <td>40.723217</td>\n",
       "      <td>1</td>\n",
       "    </tr>\n",
       "    <tr>\n",
       "      <th>1</th>\n",
       "      <td>27835199</td>\n",
       "      <td>7.7</td>\n",
       "      <td>2009-07-17 20:04:56 UTC</td>\n",
       "      <td>-73.994355</td>\n",
       "      <td>40.728225</td>\n",
       "      <td>-73.994710</td>\n",
       "      <td>40.750325</td>\n",
       "      <td>1</td>\n",
       "    </tr>\n",
       "    <tr>\n",
       "      <th>2</th>\n",
       "      <td>44984355</td>\n",
       "      <td>12.9</td>\n",
       "      <td>2009-08-24 21:45:00 UTC</td>\n",
       "      <td>-74.005043</td>\n",
       "      <td>40.740770</td>\n",
       "      <td>-73.962565</td>\n",
       "      <td>40.772647</td>\n",
       "      <td>1</td>\n",
       "    </tr>\n",
       "    <tr>\n",
       "      <th>3</th>\n",
       "      <td>25894730</td>\n",
       "      <td>5.3</td>\n",
       "      <td>2009-06-26 08:22:21 UTC</td>\n",
       "      <td>-73.976124</td>\n",
       "      <td>40.790844</td>\n",
       "      <td>-73.965316</td>\n",
       "      <td>40.803349</td>\n",
       "      <td>3</td>\n",
       "    </tr>\n",
       "    <tr>\n",
       "      <th>4</th>\n",
       "      <td>17610152</td>\n",
       "      <td>16.0</td>\n",
       "      <td>2014-08-28 17:47:00 UTC</td>\n",
       "      <td>-73.925023</td>\n",
       "      <td>40.744085</td>\n",
       "      <td>-73.973082</td>\n",
       "      <td>40.761247</td>\n",
       "      <td>5</td>\n",
       "    </tr>\n",
       "  </tbody>\n",
       "</table>\n",
       "</div>"
      ],
      "text/plain": [
       "    ride_id  fare_amount          pickup_datetime  pickup_longitude  \\\n",
       "0  24238194          7.5  2015-05-07 19:52:06 UTC        -73.999817   \n",
       "1  27835199          7.7  2009-07-17 20:04:56 UTC        -73.994355   \n",
       "2  44984355         12.9  2009-08-24 21:45:00 UTC        -74.005043   \n",
       "3  25894730          5.3  2009-06-26 08:22:21 UTC        -73.976124   \n",
       "4  17610152         16.0  2014-08-28 17:47:00 UTC        -73.925023   \n",
       "\n",
       "   pickup_latitude  dropoff_longitude  dropoff_latitude  passenger_count  \n",
       "0        40.738354         -73.999512         40.723217                1  \n",
       "1        40.728225         -73.994710         40.750325                1  \n",
       "2        40.740770         -73.962565         40.772647                1  \n",
       "3        40.790844         -73.965316         40.803349                3  \n",
       "4        40.744085         -73.973082         40.761247                5  "
      ]
     },
     "execution_count": 13,
     "metadata": {},
     "output_type": "execute_result"
    }
   ],
   "source": [
    "# printing first five rows\n",
    "df.head()"
   ]
  },
  {
   "cell_type": "code",
   "execution_count": 14,
   "id": "7c7f2652",
   "metadata": {},
   "outputs": [
    {
     "data": {
      "text/plain": [
       "(200000, 8)"
      ]
     },
     "execution_count": 14,
     "metadata": {},
     "output_type": "execute_result"
    }
   ],
   "source": [
    "# shape of the dataset\n",
    "df.shape\n"
   ]
  },
  {
   "cell_type": "code",
   "execution_count": 15,
   "id": "ea3a56e7",
   "metadata": {},
   "outputs": [
    {
     "name": "stdout",
     "output_type": "stream",
     "text": [
      "<class 'pandas.core.frame.DataFrame'>\n",
      "RangeIndex: 200000 entries, 0 to 199999\n",
      "Data columns (total 8 columns):\n",
      " #   Column             Non-Null Count   Dtype  \n",
      "---  ------             --------------   -----  \n",
      " 0   ride_id            200000 non-null  int64  \n",
      " 1   fare_amount        200000 non-null  float64\n",
      " 2   pickup_datetime    200000 non-null  object \n",
      " 3   pickup_longitude   200000 non-null  float64\n",
      " 4   pickup_latitude    200000 non-null  float64\n",
      " 5   dropoff_longitude  199999 non-null  float64\n",
      " 6   dropoff_latitude   199999 non-null  float64\n",
      " 7   passenger_count    200000 non-null  int64  \n",
      "dtypes: float64(5), int64(2), object(1)\n",
      "memory usage: 12.2+ MB\n"
     ]
    }
   ],
   "source": [
    "# \n",
    "df.info()"
   ]
  },
  {
   "cell_type": "code",
   "execution_count": 16,
   "id": "8c9b8cc1",
   "metadata": {},
   "outputs": [
    {
     "data": {
      "text/plain": [
       "ride_id              0\n",
       "fare_amount          0\n",
       "pickup_datetime      0\n",
       "pickup_longitude     0\n",
       "pickup_latitude      0\n",
       "dropoff_longitude    1\n",
       "dropoff_latitude     1\n",
       "passenger_count      0\n",
       "dtype: int64"
      ]
     },
     "execution_count": 16,
     "metadata": {},
     "output_type": "execute_result"
    }
   ],
   "source": [
    "# finding missing values\n",
    "df.isnull().sum()"
   ]
  },
  {
   "cell_type": "code",
   "execution_count": 17,
   "id": "a174ed3c",
   "metadata": {},
   "outputs": [],
   "source": [
    "# number of missing values in the dropoff_longitude column is 1.\n"
   ]
  },
  {
   "cell_type": "code",
   "execution_count": 20,
   "id": "72bc391f",
   "metadata": {},
   "outputs": [
    {
     "name": "stdout",
     "output_type": "stream",
     "text": [
      "object\n"
     ]
    }
   ],
   "source": [
    "# data type of  pickup_datetime column \n",
    "print(df['pickup_datetime'].dtypes)\n"
   ]
  },
  {
   "cell_type": "code",
   "execution_count": 21,
   "id": "9ebec1fa",
   "metadata": {},
   "outputs": [],
   "source": [
    "#  pickup_datetime column is of object datatype"
   ]
  },
  {
   "cell_type": "code",
   "execution_count": 22,
   "id": "d6c03fb9",
   "metadata": {},
   "outputs": [],
   "source": [
    "# changing the pickup_datetime column to datetime format\n",
    "df['pickup_datetime'] = pd.to_datetime(df['pickup_datetime'])"
   ]
  },
  {
   "cell_type": "code",
   "execution_count": 23,
   "id": "a8379d6a",
   "metadata": {},
   "outputs": [
    {
     "name": "stdout",
     "output_type": "stream",
     "text": [
      "datetime64[ns, UTC]\n"
     ]
    }
   ],
   "source": [
    "print(df['pickup_datetime'].dtypes)"
   ]
  },
  {
   "cell_type": "code",
   "execution_count": 24,
   "id": "e54a7f97",
   "metadata": {},
   "outputs": [],
   "source": [
    "# removing null values\n",
    "df = df.dropna()"
   ]
  },
  {
   "cell_type": "code",
   "execution_count": 25,
   "id": "80edb91c",
   "metadata": {},
   "outputs": [
    {
     "data": {
      "text/plain": [
       "ride_id              0\n",
       "fare_amount          0\n",
       "pickup_datetime      0\n",
       "pickup_longitude     0\n",
       "pickup_latitude      0\n",
       "dropoff_longitude    0\n",
       "dropoff_latitude     0\n",
       "passenger_count      0\n",
       "dtype: int64"
      ]
     },
     "execution_count": 25,
     "metadata": {},
     "output_type": "execute_result"
    }
   ],
   "source": [
    "df.isnull().sum()"
   ]
  },
  {
   "cell_type": "code",
   "execution_count": 26,
   "id": "0cf6652d",
   "metadata": {},
   "outputs": [],
   "source": [
    "# Average fair amount\n",
    "average_fare = df['fare_amount'].mean()\n"
   ]
  },
  {
   "cell_type": "code",
   "execution_count": 27,
   "id": "4cfe90c7",
   "metadata": {},
   "outputs": [
    {
     "name": "stdout",
     "output_type": "stream",
     "text": [
      "11.359891549457748\n"
     ]
    }
   ],
   "source": [
    "print(average_fare)"
   ]
  },
  {
   "cell_type": "code",
   "execution_count": 29,
   "id": "387f359f",
   "metadata": {},
   "outputs": [],
   "source": [
    "# distance between each pickup and dropoff points using Haversine formula.\n",
    "\n",
    "def haversine_dist(lat1, lon1, lat2, lon2):\n",
    "    \"\"\"\n",
    "    Parameters:\n",
    "        lat1, lon1: Latitude and longitude of the pickup location.\n",
    "        lat2, lon2: Latitude and longitude of the dropoff location.\n",
    "    \n",
    "    \"\"\"\n",
    "    # Radius of the Earth in kilometers\n",
    "    R = 6371.0\n",
    "    \n",
    "    # Convert latitude and longitude from degrees to radians\n",
    "    lat1 = np.radians(lat1)\n",
    "    lon1 = np.radians(lon1)\n",
    "    lat2 = np.radians(lat2)\n",
    "    lon2 = np.radians(lon2)\n",
    "    \n",
    "    # Haversine formula\n",
    "    d_lon = lon2 - lon1\n",
    "    d_lat = lat2 - lat1\n",
    "    a = np.sin(d_lat / 2)**2 + np.cos(lat1) * np.cos(lat2) * np.sin(d_lon / 2)**2\n",
    "    c = 2 * np.arctan2(np.sqrt(a), np.sqrt(1 - a))\n",
    "    distance = R * c\n",
    "    \n",
    "    return distance"
   ]
  },
  {
   "cell_type": "code",
   "execution_count": 30,
   "id": "a26ea899",
   "metadata": {},
   "outputs": [
    {
     "name": "stderr",
     "output_type": "stream",
     "text": [
      "C:\\Users\\aravi\\AppData\\Local\\Temp\\ipykernel_4208\\1726075217.py:1: SettingWithCopyWarning: \n",
      "A value is trying to be set on a copy of a slice from a DataFrame.\n",
      "Try using .loc[row_indexer,col_indexer] = value instead\n",
      "\n",
      "See the caveats in the documentation: https://pandas.pydata.org/pandas-docs/stable/user_guide/indexing.html#returning-a-view-versus-a-copy\n",
      "  df['haversine_distance'] = df.apply(lambda row: haversine_dist(row['pickup_latitude'], row['pickup_longitude'], row['dropoff_latitude'], row['dropoff_longitude']), axis=1)\n"
     ]
    }
   ],
   "source": [
    "df['haversine_distance'] = df.apply(lambda row: haversine_dist(row['pickup_latitude'], row['pickup_longitude'], row['dropoff_latitude'], row['dropoff_longitude']), axis=1)"
   ]
  },
  {
   "cell_type": "code",
   "execution_count": 31,
   "id": "d65a9be8",
   "metadata": {},
   "outputs": [
    {
     "data": {
      "text/plain": [
       "0          1.683323\n",
       "1          2.457590\n",
       "2          5.036377\n",
       "3          1.661683\n",
       "4          4.475450\n",
       "            ...    \n",
       "199995     0.112210\n",
       "199996     1.875050\n",
       "199997    12.850319\n",
       "199998     3.539715\n",
       "199999     5.417783\n",
       "Name: haversine_distance, Length: 199999, dtype: float64"
      ]
     },
     "execution_count": 31,
     "metadata": {},
     "output_type": "execute_result"
    }
   ],
   "source": [
    "df['haversine_distance']"
   ]
  },
  {
   "cell_type": "code",
   "execution_count": 32,
   "id": "5116a45c",
   "metadata": {},
   "outputs": [
    {
     "name": "stdout",
     "output_type": "stream",
     "text": [
      "Median Haversine Distance: 2.1209923961833708 kilometers\n"
     ]
    }
   ],
   "source": [
    "#  Median Haversine Distance\n",
    "median_distance = df['haversine_distance'].median()\n",
    "print(\"Median Haversine Distance:\", median_distance, \"kilometers\")"
   ]
  },
  {
   "cell_type": "code",
   "execution_count": 33,
   "id": "4e98878e",
   "metadata": {},
   "outputs": [
    {
     "name": "stdout",
     "output_type": "stream",
     "text": [
      "Maximum Haversine Distance: 16409.239135313168 kilometers\n"
     ]
    }
   ],
   "source": [
    "# Maximum haversine distance \n",
    "max_distance = df['haversine_distance'].max()\n",
    "print(\"Maximum Haversine Distance:\", max_distance, \"kilometers\")"
   ]
  },
  {
   "cell_type": "code",
   "execution_count": 34,
   "id": "45c8c420",
   "metadata": {},
   "outputs": [
    {
     "name": "stdout",
     "output_type": "stream",
     "text": [
      "Number of rides with 0.0 Haversine Distance: 5632\n"
     ]
    }
   ],
   "source": [
    "#  rides with haversine distance = 0\n",
    "rides_with_zero_distance = (df['haversine_distance'] == 0.0).sum()\n",
    "print(\"Number of rides with 0.0 Haversine Distance:\", rides_with_zero_distance)"
   ]
  },
  {
   "cell_type": "raw",
   "id": "313a56cd",
   "metadata": {},
   "source": [
    "possible scenarios\n",
    "    * cancelled rides\n",
    "    * round trips\n",
    "    * app error( data entry error)"
   ]
  },
  {
   "cell_type": "code",
   "execution_count": 35,
   "id": "21dd35f7",
   "metadata": {},
   "outputs": [
    {
     "name": "stdout",
     "output_type": "stream",
     "text": [
      "Mean Fare Amount for Rides with 0.0 Haversine Distance: 11.585317826704546\n"
     ]
    }
   ],
   "source": [
    "# mean 'fare_amount' for rides with 0 haversine distance\n",
    "mean_fare_for_zero_distance = df[df['haversine_distance'] == 0.0]['fare_amount'].mean()\n",
    "print(\"Mean Fare Amount for Rides with 0.0 Haversine Distance:\", mean_fare_for_zero_distance)"
   ]
  },
  {
   "cell_type": "code",
   "execution_count": 36,
   "id": "eff9526b",
   "metadata": {},
   "outputs": [
    {
     "name": "stdout",
     "output_type": "stream",
     "text": [
      "Maximum Fare Amount: 499.0\n"
     ]
    }
   ],
   "source": [
    "# Maximum 'fare_amount' for a ride\n",
    "max_fare = df['fare_amount'].max()\n",
    "print(\"Maximum Fare Amount:\", max_fare)"
   ]
  },
  {
   "cell_type": "code",
   "execution_count": 37,
   "id": "6c77bf89",
   "metadata": {},
   "outputs": [
    {
     "name": "stdout",
     "output_type": "stream",
     "text": [
      "Minimum Fare Amount: -52.0\n"
     ]
    }
   ],
   "source": [
    "# Minimum 'fare_amount' for a ride\n",
    "min_fare = df['fare_amount'].min()\n",
    "print(\"Minimum Fare Amount:\", min_fare)"
   ]
  },
  {
   "cell_type": "code",
   "execution_count": 38,
   "id": "3930b78e",
   "metadata": {},
   "outputs": [],
   "source": [
    "#Haversine distance between pickup and dropoff location for the costliest ride\n",
    "haversine_dist_costliest_ride =df[df['fare_amount'] == df['fare_amount'].max()]['haversine_distance']"
   ]
  },
  {
   "cell_type": "code",
   "execution_count": 48,
   "id": "6f0878d5",
   "metadata": {},
   "outputs": [
    {
     "data": {
      "text/plain": [
       "170081    0.00079\n",
       "Name: haversine_distance, dtype: float64"
      ]
     },
     "execution_count": 48,
     "metadata": {},
     "output_type": "execute_result"
    }
   ],
   "source": [
    "haversine_dist_costliest_ride"
   ]
  },
  {
   "cell_type": "code",
   "execution_count": 49,
   "id": "9fcad5da",
   "metadata": {},
   "outputs": [
    {
     "name": "stdout",
     "output_type": "stream",
     "text": [
      "Number of Rides Recorded in 2014: 29968\n"
     ]
    },
    {
     "name": "stderr",
     "output_type": "stream",
     "text": [
      "C:\\Users\\aravi\\AppData\\Local\\Temp\\ipykernel_4208\\2526759342.py:2: SettingWithCopyWarning: \n",
      "A value is trying to be set on a copy of a slice from a DataFrame.\n",
      "Try using .loc[row_indexer,col_indexer] = value instead\n",
      "\n",
      "See the caveats in the documentation: https://pandas.pydata.org/pandas-docs/stable/user_guide/indexing.html#returning-a-view-versus-a-copy\n",
      "  df['pickup_year'] = df['pickup_datetime'].dt.year\n"
     ]
    }
   ],
   "source": [
    "# rides recorded in the year 2014\n",
    "df['pickup_year'] = df['pickup_datetime'].dt.year\n",
    "rides_in_2014 = (df['pickup_year'] == 2014).sum()\n",
    "print(\"Number of Rides Recorded in 2014:\", rides_in_2014)"
   ]
  },
  {
   "cell_type": "code",
   "execution_count": 50,
   "id": "199b9090",
   "metadata": {},
   "outputs": [
    {
     "name": "stdout",
     "output_type": "stream",
     "text": [
      "Number of Rides Recorded in the First Quarter of 2014: 7687\n"
     ]
    },
    {
     "name": "stderr",
     "output_type": "stream",
     "text": [
      "C:\\Users\\aravi\\AppData\\Local\\Temp\\ipykernel_4208\\415759348.py:3: SettingWithCopyWarning: \n",
      "A value is trying to be set on a copy of a slice from a DataFrame.\n",
      "Try using .loc[row_indexer,col_indexer] = value instead\n",
      "\n",
      "See the caveats in the documentation: https://pandas.pydata.org/pandas-docs/stable/user_guide/indexing.html#returning-a-view-versus-a-copy\n",
      "  df['pickup_quarter'] = df['pickup_datetime'].dt.quarter\n"
     ]
    }
   ],
   "source": [
    "#  rides recorded in the first quarter of 2014?\n",
    "\n",
    "df['pickup_quarter'] = df['pickup_datetime'].dt.quarter\n",
    "rides_in_first_quarter_2014 = (df['pickup_year'] == 2014) & (df['pickup_quarter'] == 1)\n",
    "num_rides_in_first_quarter_2014 = rides_in_first_quarter_2014.sum()\n",
    "print(\"Number of Rides Recorded in the First Quarter of 2014:\", num_rides_in_first_quarter_2014)"
   ]
  },
  {
   "cell_type": "code",
   "execution_count": 52,
   "id": "d14d7be0",
   "metadata": {},
   "outputs": [
    {
     "name": "stdout",
     "output_type": "stream",
     "text": [
      "Day of the week in September 2010 on which maximum rides were recorded\n",
      "Day: Thursday\n",
      "Number of Rides: 457\n"
     ]
    },
    {
     "name": "stderr",
     "output_type": "stream",
     "text": [
      "C:\\Users\\aravi\\AppData\\Local\\Temp\\ipykernel_4208\\1096084812.py:3: SettingWithCopyWarning: \n",
      "A value is trying to be set on a copy of a slice from a DataFrame.\n",
      "Try using .loc[row_indexer,col_indexer] = value instead\n",
      "\n",
      "See the caveats in the documentation: https://pandas.pydata.org/pandas-docs/stable/user_guide/indexing.html#returning-a-view-versus-a-copy\n",
      "  df['pickup_datetime'] = pd.to_datetime(df['pickup_datetime'])\n",
      "C:\\Users\\aravi\\AppData\\Local\\Temp\\ipykernel_4208\\1096084812.py:4: SettingWithCopyWarning: \n",
      "A value is trying to be set on a copy of a slice from a DataFrame.\n",
      "Try using .loc[row_indexer,col_indexer] = value instead\n",
      "\n",
      "See the caveats in the documentation: https://pandas.pydata.org/pandas-docs/stable/user_guide/indexing.html#returning-a-view-versus-a-copy\n",
      "  df['day_of_week'] = df['pickup_datetime'].dt.day_name()\n",
      "C:\\Users\\aravi\\AppData\\Local\\Temp\\ipykernel_4208\\1096084812.py:5: SettingWithCopyWarning: \n",
      "A value is trying to be set on a copy of a slice from a DataFrame.\n",
      "Try using .loc[row_indexer,col_indexer] = value instead\n",
      "\n",
      "See the caveats in the documentation: https://pandas.pydata.org/pandas-docs/stable/user_guide/indexing.html#returning-a-view-versus-a-copy\n",
      "  df['year'] = df['pickup_datetime'].dt.year\n"
     ]
    }
   ],
   "source": [
    "#Day of the week in September 2010 on which maximum rides were recorded \n",
    "\n",
    "df['pickup_datetime'] = pd.to_datetime(df['pickup_datetime'])\n",
    "df['day_of_week'] = df['pickup_datetime'].dt.day_name()\n",
    "df['year'] = df['pickup_datetime'].dt.year\n",
    "september_2010_rides = df[(df['year'] == 2010) & (df['pickup_datetime'].dt.month == 9)]\n",
    "day_counts = september_2010_rides['day_of_week'].value_counts()\n",
    "max_rides_day = day_counts.idxmax()\n",
    "max_rides_count = day_counts.max()\n",
    "print(\"Day of the week in September 2010 on which maximum rides were recorded\")\n",
    "print(\"Day:\", max_rides_day)\n",
    "print(\"Number of Rides:\", max_rides_count)"
   ]
  },
  {
   "cell_type": "code",
   "execution_count": 64,
   "id": "bfcccaff",
   "metadata": {},
   "outputs": [],
   "source": [
    "from sklearn.model_selection import train_test_split\n",
    "from sklearn.linear_model import LinearRegression\n",
    "from sklearn.ensemble import RandomForestRegressor\n",
    "from sklearn.metrics import r2_score"
   ]
  },
  {
   "cell_type": "code",
   "execution_count": 55,
   "id": "b78419de",
   "metadata": {},
   "outputs": [],
   "source": [
    "df_encoded = pd.get_dummies(df, columns=['day_of_week'], drop_first=True)"
   ]
  },
  {
   "cell_type": "code",
   "execution_count": 57,
   "id": "c343d16c",
   "metadata": {},
   "outputs": [
    {
     "data": {
      "text/plain": [
       "Index(['ride_id', 'fare_amount', 'pickup_datetime', 'pickup_longitude',\n",
       "       'pickup_latitude', 'dropoff_longitude', 'dropoff_latitude',\n",
       "       'passenger_count', 'haversine_distance', 'pickup_year',\n",
       "       'pickup_quarter', 'year', 'day_of_week_Monday', 'day_of_week_Saturday',\n",
       "       'day_of_week_Sunday', 'day_of_week_Thursday', 'day_of_week_Tuesday',\n",
       "       'day_of_week_Wednesday'],\n",
       "      dtype='object')"
      ]
     },
     "execution_count": 57,
     "metadata": {},
     "output_type": "execute_result"
    }
   ],
   "source": [
    "df_encoded.columns"
   ]
  },
  {
   "cell_type": "code",
   "execution_count": 60,
   "id": "955788b0",
   "metadata": {},
   "outputs": [],
   "source": [
    "columns_to_exclude=['ride_id','pickup_datetime','pickup_longitude',\n",
    "       'pickup_latitude','dropoff_longitude','dropoff_latitude',\n",
    "       'pickup_year','pickup_quarter','year']\n",
    "df_filtered = df_encoded.drop(columns=columns_to_exclude)"
   ]
  },
  {
   "cell_type": "code",
   "execution_count": 61,
   "id": "5032e1b6",
   "metadata": {},
   "outputs": [
    {
     "data": {
      "text/html": [
       "<div>\n",
       "<style scoped>\n",
       "    .dataframe tbody tr th:only-of-type {\n",
       "        vertical-align: middle;\n",
       "    }\n",
       "\n",
       "    .dataframe tbody tr th {\n",
       "        vertical-align: top;\n",
       "    }\n",
       "\n",
       "    .dataframe thead th {\n",
       "        text-align: right;\n",
       "    }\n",
       "</style>\n",
       "<table border=\"1\" class=\"dataframe\">\n",
       "  <thead>\n",
       "    <tr style=\"text-align: right;\">\n",
       "      <th></th>\n",
       "      <th>fare_amount</th>\n",
       "      <th>passenger_count</th>\n",
       "      <th>haversine_distance</th>\n",
       "      <th>day_of_week_Monday</th>\n",
       "      <th>day_of_week_Saturday</th>\n",
       "      <th>day_of_week_Sunday</th>\n",
       "      <th>day_of_week_Thursday</th>\n",
       "      <th>day_of_week_Tuesday</th>\n",
       "      <th>day_of_week_Wednesday</th>\n",
       "    </tr>\n",
       "  </thead>\n",
       "  <tbody>\n",
       "    <tr>\n",
       "      <th>0</th>\n",
       "      <td>7.5</td>\n",
       "      <td>1</td>\n",
       "      <td>1.683323</td>\n",
       "      <td>0</td>\n",
       "      <td>0</td>\n",
       "      <td>0</td>\n",
       "      <td>1</td>\n",
       "      <td>0</td>\n",
       "      <td>0</td>\n",
       "    </tr>\n",
       "    <tr>\n",
       "      <th>1</th>\n",
       "      <td>7.7</td>\n",
       "      <td>1</td>\n",
       "      <td>2.457590</td>\n",
       "      <td>0</td>\n",
       "      <td>0</td>\n",
       "      <td>0</td>\n",
       "      <td>0</td>\n",
       "      <td>0</td>\n",
       "      <td>0</td>\n",
       "    </tr>\n",
       "    <tr>\n",
       "      <th>2</th>\n",
       "      <td>12.9</td>\n",
       "      <td>1</td>\n",
       "      <td>5.036377</td>\n",
       "      <td>1</td>\n",
       "      <td>0</td>\n",
       "      <td>0</td>\n",
       "      <td>0</td>\n",
       "      <td>0</td>\n",
       "      <td>0</td>\n",
       "    </tr>\n",
       "    <tr>\n",
       "      <th>3</th>\n",
       "      <td>5.3</td>\n",
       "      <td>3</td>\n",
       "      <td>1.661683</td>\n",
       "      <td>0</td>\n",
       "      <td>0</td>\n",
       "      <td>0</td>\n",
       "      <td>0</td>\n",
       "      <td>0</td>\n",
       "      <td>0</td>\n",
       "    </tr>\n",
       "    <tr>\n",
       "      <th>4</th>\n",
       "      <td>16.0</td>\n",
       "      <td>5</td>\n",
       "      <td>4.475450</td>\n",
       "      <td>0</td>\n",
       "      <td>0</td>\n",
       "      <td>0</td>\n",
       "      <td>1</td>\n",
       "      <td>0</td>\n",
       "      <td>0</td>\n",
       "    </tr>\n",
       "    <tr>\n",
       "      <th>...</th>\n",
       "      <td>...</td>\n",
       "      <td>...</td>\n",
       "      <td>...</td>\n",
       "      <td>...</td>\n",
       "      <td>...</td>\n",
       "      <td>...</td>\n",
       "      <td>...</td>\n",
       "      <td>...</td>\n",
       "      <td>...</td>\n",
       "    </tr>\n",
       "    <tr>\n",
       "      <th>199995</th>\n",
       "      <td>3.0</td>\n",
       "      <td>1</td>\n",
       "      <td>0.112210</td>\n",
       "      <td>0</td>\n",
       "      <td>0</td>\n",
       "      <td>1</td>\n",
       "      <td>0</td>\n",
       "      <td>0</td>\n",
       "      <td>0</td>\n",
       "    </tr>\n",
       "    <tr>\n",
       "      <th>199996</th>\n",
       "      <td>7.5</td>\n",
       "      <td>1</td>\n",
       "      <td>1.875050</td>\n",
       "      <td>0</td>\n",
       "      <td>0</td>\n",
       "      <td>0</td>\n",
       "      <td>0</td>\n",
       "      <td>0</td>\n",
       "      <td>0</td>\n",
       "    </tr>\n",
       "    <tr>\n",
       "      <th>199997</th>\n",
       "      <td>30.9</td>\n",
       "      <td>2</td>\n",
       "      <td>12.850319</td>\n",
       "      <td>1</td>\n",
       "      <td>0</td>\n",
       "      <td>0</td>\n",
       "      <td>0</td>\n",
       "      <td>0</td>\n",
       "      <td>0</td>\n",
       "    </tr>\n",
       "    <tr>\n",
       "      <th>199998</th>\n",
       "      <td>14.5</td>\n",
       "      <td>1</td>\n",
       "      <td>3.539715</td>\n",
       "      <td>0</td>\n",
       "      <td>0</td>\n",
       "      <td>0</td>\n",
       "      <td>0</td>\n",
       "      <td>0</td>\n",
       "      <td>1</td>\n",
       "    </tr>\n",
       "    <tr>\n",
       "      <th>199999</th>\n",
       "      <td>14.1</td>\n",
       "      <td>1</td>\n",
       "      <td>5.417783</td>\n",
       "      <td>0</td>\n",
       "      <td>1</td>\n",
       "      <td>0</td>\n",
       "      <td>0</td>\n",
       "      <td>0</td>\n",
       "      <td>0</td>\n",
       "    </tr>\n",
       "  </tbody>\n",
       "</table>\n",
       "<p>199999 rows × 9 columns</p>\n",
       "</div>"
      ],
      "text/plain": [
       "        fare_amount  passenger_count  haversine_distance  day_of_week_Monday  \\\n",
       "0               7.5                1            1.683323                   0   \n",
       "1               7.7                1            2.457590                   0   \n",
       "2              12.9                1            5.036377                   1   \n",
       "3               5.3                3            1.661683                   0   \n",
       "4              16.0                5            4.475450                   0   \n",
       "...             ...              ...                 ...                 ...   \n",
       "199995          3.0                1            0.112210                   0   \n",
       "199996          7.5                1            1.875050                   0   \n",
       "199997         30.9                2           12.850319                   1   \n",
       "199998         14.5                1            3.539715                   0   \n",
       "199999         14.1                1            5.417783                   0   \n",
       "\n",
       "        day_of_week_Saturday  day_of_week_Sunday  day_of_week_Thursday  \\\n",
       "0                          0                   0                     1   \n",
       "1                          0                   0                     0   \n",
       "2                          0                   0                     0   \n",
       "3                          0                   0                     0   \n",
       "4                          0                   0                     1   \n",
       "...                      ...                 ...                   ...   \n",
       "199995                     0                   1                     0   \n",
       "199996                     0                   0                     0   \n",
       "199997                     0                   0                     0   \n",
       "199998                     0                   0                     0   \n",
       "199999                     1                   0                     0   \n",
       "\n",
       "        day_of_week_Tuesday  day_of_week_Wednesday  \n",
       "0                         0                      0  \n",
       "1                         0                      0  \n",
       "2                         0                      0  \n",
       "3                         0                      0  \n",
       "4                         0                      0  \n",
       "...                     ...                    ...  \n",
       "199995                    0                      0  \n",
       "199996                    0                      0  \n",
       "199997                    0                      0  \n",
       "199998                    0                      1  \n",
       "199999                    0                      0  \n",
       "\n",
       "[199999 rows x 9 columns]"
      ]
     },
     "execution_count": 61,
     "metadata": {},
     "output_type": "execute_result"
    }
   ],
   "source": [
    "df_filtered"
   ]
  },
  {
   "cell_type": "code",
   "execution_count": 62,
   "id": "6bb45c90",
   "metadata": {},
   "outputs": [
    {
     "data": {
      "text/html": [
       "<div>\n",
       "<style scoped>\n",
       "    .dataframe tbody tr th:only-of-type {\n",
       "        vertical-align: middle;\n",
       "    }\n",
       "\n",
       "    .dataframe tbody tr th {\n",
       "        vertical-align: top;\n",
       "    }\n",
       "\n",
       "    .dataframe thead th {\n",
       "        text-align: right;\n",
       "    }\n",
       "</style>\n",
       "<table border=\"1\" class=\"dataframe\">\n",
       "  <thead>\n",
       "    <tr style=\"text-align: right;\">\n",
       "      <th></th>\n",
       "      <th>passenger_count</th>\n",
       "      <th>haversine_distance</th>\n",
       "      <th>day_of_week_Monday</th>\n",
       "      <th>day_of_week_Saturday</th>\n",
       "      <th>day_of_week_Sunday</th>\n",
       "      <th>day_of_week_Thursday</th>\n",
       "      <th>day_of_week_Tuesday</th>\n",
       "      <th>day_of_week_Wednesday</th>\n",
       "    </tr>\n",
       "  </thead>\n",
       "  <tbody>\n",
       "    <tr>\n",
       "      <th>0</th>\n",
       "      <td>1</td>\n",
       "      <td>1.683323</td>\n",
       "      <td>0</td>\n",
       "      <td>0</td>\n",
       "      <td>0</td>\n",
       "      <td>1</td>\n",
       "      <td>0</td>\n",
       "      <td>0</td>\n",
       "    </tr>\n",
       "    <tr>\n",
       "      <th>1</th>\n",
       "      <td>1</td>\n",
       "      <td>2.457590</td>\n",
       "      <td>0</td>\n",
       "      <td>0</td>\n",
       "      <td>0</td>\n",
       "      <td>0</td>\n",
       "      <td>0</td>\n",
       "      <td>0</td>\n",
       "    </tr>\n",
       "    <tr>\n",
       "      <th>2</th>\n",
       "      <td>1</td>\n",
       "      <td>5.036377</td>\n",
       "      <td>1</td>\n",
       "      <td>0</td>\n",
       "      <td>0</td>\n",
       "      <td>0</td>\n",
       "      <td>0</td>\n",
       "      <td>0</td>\n",
       "    </tr>\n",
       "    <tr>\n",
       "      <th>3</th>\n",
       "      <td>3</td>\n",
       "      <td>1.661683</td>\n",
       "      <td>0</td>\n",
       "      <td>0</td>\n",
       "      <td>0</td>\n",
       "      <td>0</td>\n",
       "      <td>0</td>\n",
       "      <td>0</td>\n",
       "    </tr>\n",
       "    <tr>\n",
       "      <th>4</th>\n",
       "      <td>5</td>\n",
       "      <td>4.475450</td>\n",
       "      <td>0</td>\n",
       "      <td>0</td>\n",
       "      <td>0</td>\n",
       "      <td>1</td>\n",
       "      <td>0</td>\n",
       "      <td>0</td>\n",
       "    </tr>\n",
       "    <tr>\n",
       "      <th>...</th>\n",
       "      <td>...</td>\n",
       "      <td>...</td>\n",
       "      <td>...</td>\n",
       "      <td>...</td>\n",
       "      <td>...</td>\n",
       "      <td>...</td>\n",
       "      <td>...</td>\n",
       "      <td>...</td>\n",
       "    </tr>\n",
       "    <tr>\n",
       "      <th>199995</th>\n",
       "      <td>1</td>\n",
       "      <td>0.112210</td>\n",
       "      <td>0</td>\n",
       "      <td>0</td>\n",
       "      <td>1</td>\n",
       "      <td>0</td>\n",
       "      <td>0</td>\n",
       "      <td>0</td>\n",
       "    </tr>\n",
       "    <tr>\n",
       "      <th>199996</th>\n",
       "      <td>1</td>\n",
       "      <td>1.875050</td>\n",
       "      <td>0</td>\n",
       "      <td>0</td>\n",
       "      <td>0</td>\n",
       "      <td>0</td>\n",
       "      <td>0</td>\n",
       "      <td>0</td>\n",
       "    </tr>\n",
       "    <tr>\n",
       "      <th>199997</th>\n",
       "      <td>2</td>\n",
       "      <td>12.850319</td>\n",
       "      <td>1</td>\n",
       "      <td>0</td>\n",
       "      <td>0</td>\n",
       "      <td>0</td>\n",
       "      <td>0</td>\n",
       "      <td>0</td>\n",
       "    </tr>\n",
       "    <tr>\n",
       "      <th>199998</th>\n",
       "      <td>1</td>\n",
       "      <td>3.539715</td>\n",
       "      <td>0</td>\n",
       "      <td>0</td>\n",
       "      <td>0</td>\n",
       "      <td>0</td>\n",
       "      <td>0</td>\n",
       "      <td>1</td>\n",
       "    </tr>\n",
       "    <tr>\n",
       "      <th>199999</th>\n",
       "      <td>1</td>\n",
       "      <td>5.417783</td>\n",
       "      <td>0</td>\n",
       "      <td>1</td>\n",
       "      <td>0</td>\n",
       "      <td>0</td>\n",
       "      <td>0</td>\n",
       "      <td>0</td>\n",
       "    </tr>\n",
       "  </tbody>\n",
       "</table>\n",
       "<p>199999 rows × 8 columns</p>\n",
       "</div>"
      ],
      "text/plain": [
       "        passenger_count  haversine_distance  day_of_week_Monday  \\\n",
       "0                     1            1.683323                   0   \n",
       "1                     1            2.457590                   0   \n",
       "2                     1            5.036377                   1   \n",
       "3                     3            1.661683                   0   \n",
       "4                     5            4.475450                   0   \n",
       "...                 ...                 ...                 ...   \n",
       "199995                1            0.112210                   0   \n",
       "199996                1            1.875050                   0   \n",
       "199997                2           12.850319                   1   \n",
       "199998                1            3.539715                   0   \n",
       "199999                1            5.417783                   0   \n",
       "\n",
       "        day_of_week_Saturday  day_of_week_Sunday  day_of_week_Thursday  \\\n",
       "0                          0                   0                     1   \n",
       "1                          0                   0                     0   \n",
       "2                          0                   0                     0   \n",
       "3                          0                   0                     0   \n",
       "4                          0                   0                     1   \n",
       "...                      ...                 ...                   ...   \n",
       "199995                     0                   1                     0   \n",
       "199996                     0                   0                     0   \n",
       "199997                     0                   0                     0   \n",
       "199998                     0                   0                     0   \n",
       "199999                     1                   0                     0   \n",
       "\n",
       "        day_of_week_Tuesday  day_of_week_Wednesday  \n",
       "0                         0                      0  \n",
       "1                         0                      0  \n",
       "2                         0                      0  \n",
       "3                         0                      0  \n",
       "4                         0                      0  \n",
       "...                     ...                    ...  \n",
       "199995                    0                      0  \n",
       "199996                    0                      0  \n",
       "199997                    0                      0  \n",
       "199998                    0                      1  \n",
       "199999                    0                      0  \n",
       "\n",
       "[199999 rows x 8 columns]"
      ]
     },
     "execution_count": 62,
     "metadata": {},
     "output_type": "execute_result"
    }
   ],
   "source": [
    "df_filtered.iloc[:, 1:]"
   ]
  },
  {
   "cell_type": "code",
   "execution_count": 65,
   "id": "1914ea34",
   "metadata": {},
   "outputs": [
    {
     "name": "stdout",
     "output_type": "stream",
     "text": [
      "Adjusted R-squared for Linear Regression: 0.0006130998123348164\n",
      "Adjusted R-squared for Random Forest Regression: 0.6311571634149258\n"
     ]
    }
   ],
   "source": [
    "X = df_filtered.iloc[:, 1:]\n",
    "y = df_filtered['fare_amount']\n",
    "\n",
    "# Split the data into training and testing sets (70-30 split)\n",
    "X_train, X_test, y_train, y_test = train_test_split(X, y, test_size=0.3, random_state=42)\n",
    "\n",
    "# Train a Linear Regression model\n",
    "lr_model = LinearRegression()\n",
    "lr_model.fit(X_train, y_train)\n",
    "\n",
    "# Train a Random Forest Regression model\n",
    "rf_model = RandomForestRegressor()\n",
    "rf_model.fit(X_train, y_train)\n",
    "\n",
    "# Make predictions on the testing data\n",
    "lr_preds = lr_model.predict(X_test)\n",
    "rf_preds = rf_model.predict(X_test)\n",
    "\n",
    "# Calculate adjusted R-squared for both models\n",
    "def adjusted_r_squared(y_true, y_pred, n, p):\n",
    "    r_squared = r2_score(y_true, y_pred)\n",
    "    adjusted_r2 = 1 - (1 - r_squared) * ((n - 1) / (n - p - 1))\n",
    "    return adjusted_r2\n",
    "\n",
    "n = len(y_test)\n",
    "p = X_test.shape[1]\n",
    "\n",
    "lr_adjusted_r2 = adjusted_r_squared(y_test, lr_preds, n, p)\n",
    "rf_adjusted_r2 = adjusted_r_squared(y_test, rf_preds, n, p)\n",
    "\n",
    "print(\"Adjusted R-squared for Linear Regression:\", lr_adjusted_r2)\n",
    "print(\"Adjusted R-squared for Random Forest Regression:\", rf_adjusted_r2)"
   ]
  },
  {
   "cell_type": "raw",
   "id": "95dc8348",
   "metadata": {},
   "source": [
    "A low adjusted R-squared value in a linear regression model indicates that the model \n",
    "does not explain much of the variance in the target variable."
   ]
  },
  {
   "cell_type": "code",
   "execution_count": null,
   "id": "9d48aecd",
   "metadata": {},
   "outputs": [],
   "source": []
  }
 ],
 "metadata": {
  "kernelspec": {
   "display_name": "Python 3 (ipykernel)",
   "language": "python",
   "name": "python3"
  },
  "language_info": {
   "codemirror_mode": {
    "name": "ipython",
    "version": 3
   },
   "file_extension": ".py",
   "mimetype": "text/x-python",
   "name": "python",
   "nbconvert_exporter": "python",
   "pygments_lexer": "ipython3",
   "version": "3.11.4"
  }
 },
 "nbformat": 4,
 "nbformat_minor": 5
}
